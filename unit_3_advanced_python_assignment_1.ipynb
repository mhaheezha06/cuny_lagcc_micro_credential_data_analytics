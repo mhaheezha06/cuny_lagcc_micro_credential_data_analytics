{
  "nbformat": 4,
  "nbformat_minor": 0,
  "metadata": {
    "colab": {
      "name": "unit 3 advanced python assignment 1",
      "provenance": [],
      "authorship_tag": "ABX9TyN2KKHU/n+WTA/HTGg9qdqS",
      "include_colab_link": true
    },
    "kernelspec": {
      "name": "python3",
      "display_name": "Python 3"
    },
    "language_info": {
      "name": "python"
    }
  },
  "cells": [
    {
      "cell_type": "markdown",
      "metadata": {
        "id": "view-in-github",
        "colab_type": "text"
      },
      "source": [
        "<a href=\"https://colab.research.google.com/github/mhaheezha06/cuny_lagcc_micro_credential_data_analytics/blob/main/unit_3_advanced_python_assignment_1.ipynb\" target=\"_parent\"><img src=\"https://colab.research.google.com/assets/colab-badge.svg\" alt=\"Open In Colab\"/></a>"
      ]
    },
    {
      "cell_type": "markdown",
      "source": [
        "find country with maximum gold question 2"
      ],
      "metadata": {
        "id": "XDAZu8rNg1ct"
      }
    },
    {
      "cell_type": "code",
      "source": [
        "import numpy as np\n",
        "#Dataset from summer Olympic London, year 2012\n",
        "np_olympic_country = np.array(['GBR','China','RUS','US','KOR','JPN','GER'])\n",
        "np_olympic_country_Gold = np.array([29,38,24,46,13,7,11])\n",
        "np_olympic_country_Silver = np.array([17,28,25,28,8,14,11])\n",
        "np_olympic_country_Bronze = np.array([19,22,32,29,7,17,14])\n",
        "\n"
      ],
      "metadata": {
        "id": "fG5fh3iTkT1g"
      },
      "execution_count": 28,
      "outputs": []
    },
    {
      "cell_type": "markdown",
      "source": [
        "Environment set up"
      ],
      "metadata": {
        "id": "vAx7gPUVj-3p"
      }
    },
    {
      "cell_type": "code",
      "source": [
        "max_gold = np_olympic_country_Gold==max(np_olympic_country_Gold)\n",
        "print(np_olympic_country[max_gold])"
      ],
      "metadata": {
        "colab": {
          "base_uri": "https://localhost:8080/"
        },
        "id": "YBPUMVYgjFHv",
        "outputId": "f10ec054-6e9b-43a4-c244-9160f9dbea9b"
      },
      "execution_count": 29,
      "outputs": [
        {
          "output_type": "stream",
          "name": "stdout",
          "text": [
            "['US']\n"
          ]
        }
      ]
    },
    {
      "cell_type": "markdown",
      "source": [
        "find countries with more than 20 gold medals"
      ],
      "metadata": {
        "id": "NomFOoTMy1D_"
      }
    },
    {
      "cell_type": "code",
      "source": [
        "more_20 =np_olympic_country_Gold >20\n",
        "print(np_olympic_country[more_20])"
      ],
      "metadata": {
        "colab": {
          "base_uri": "https://localhost:8080/"
        },
        "id": "hpot3q7BzKIW",
        "outputId": "a3666350-bce7-4f37-8918-16ebc32c9dd4"
      },
      "execution_count": 30,
      "outputs": [
        {
          "output_type": "stream",
          "name": "stdout",
          "text": [
            "['GBR' 'China' 'RUS' 'US']\n"
          ]
        }
      ]
    }
  ]
}